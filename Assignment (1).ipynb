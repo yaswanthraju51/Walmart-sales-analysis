{
 "cells": [
  {
   "cell_type": "code",
   "execution_count": 5,
   "id": "b29dc0e0-24f8-4d4f-837c-9b99437ba143",
   "metadata": {},
   "outputs": [],
   "source": [
    "import pandas as pd\n",
    "file_path = 'C:\\\\Users\\\\yaswa\\\\Downloads\\\\Walmart_Sales_CB1799BACC_77EAC63B5D.xlsx'\n",
    "df = pd.read_excel(file_path)\n"
   ]
  },
  {
   "cell_type": "code",
   "execution_count": 7,
   "id": "8ae0308a-f913-455a-90dc-4fbe5f33a49f",
   "metadata": {},
   "outputs": [
    {
     "data": {
      "text/html": [
       "<div>\n",
       "<style scoped>\n",
       "    .dataframe tbody tr th:only-of-type {\n",
       "        vertical-align: middle;\n",
       "    }\n",
       "\n",
       "    .dataframe tbody tr th {\n",
       "        vertical-align: top;\n",
       "    }\n",
       "\n",
       "    .dataframe thead th {\n",
       "        text-align: right;\n",
       "    }\n",
       "</style>\n",
       "<table border=\"1\" class=\"dataframe\">\n",
       "  <thead>\n",
       "    <tr style=\"text-align: right;\">\n",
       "      <th></th>\n",
       "      <th>Invoice ID</th>\n",
       "      <th>Branch</th>\n",
       "      <th>City</th>\n",
       "      <th>Customer type</th>\n",
       "      <th>Gender</th>\n",
       "      <th>Product line</th>\n",
       "      <th>Unit price</th>\n",
       "      <th>Quantity</th>\n",
       "      <th>Date</th>\n",
       "      <th>Time</th>\n",
       "      <th>Payment</th>\n",
       "      <th>Rating</th>\n",
       "    </tr>\n",
       "  </thead>\n",
       "  <tbody>\n",
       "    <tr>\n",
       "      <th>0</th>\n",
       "      <td>750-67-8428</td>\n",
       "      <td>A</td>\n",
       "      <td>Yangon</td>\n",
       "      <td>Member</td>\n",
       "      <td>Female</td>\n",
       "      <td>Health and beauty</td>\n",
       "      <td>74.69</td>\n",
       "      <td>7</td>\n",
       "      <td>1/5/2019</td>\n",
       "      <td>13:08:00</td>\n",
       "      <td>Ewallet</td>\n",
       "      <td>9.1</td>\n",
       "    </tr>\n",
       "    <tr>\n",
       "      <th>1</th>\n",
       "      <td>226-31-3081</td>\n",
       "      <td>A</td>\n",
       "      <td>Naypyitaw</td>\n",
       "      <td>Normal</td>\n",
       "      <td>Female</td>\n",
       "      <td>Electronic accessories</td>\n",
       "      <td>15.28</td>\n",
       "      <td>5</td>\n",
       "      <td>3/8/2019</td>\n",
       "      <td>10:29:00</td>\n",
       "      <td>Cash</td>\n",
       "      <td>9.6</td>\n",
       "    </tr>\n",
       "    <tr>\n",
       "      <th>2</th>\n",
       "      <td>631-41-3108</td>\n",
       "      <td>A</td>\n",
       "      <td>Yangon</td>\n",
       "      <td>Normal</td>\n",
       "      <td>Male</td>\n",
       "      <td>Home and lifestyle</td>\n",
       "      <td>46.33</td>\n",
       "      <td>7</td>\n",
       "      <td>3/3/2019</td>\n",
       "      <td>13:23:00</td>\n",
       "      <td>Credit card</td>\n",
       "      <td>7.4</td>\n",
       "    </tr>\n",
       "    <tr>\n",
       "      <th>3</th>\n",
       "      <td>123-19-1176</td>\n",
       "      <td>B</td>\n",
       "      <td>Yangon</td>\n",
       "      <td>Member</td>\n",
       "      <td>Male</td>\n",
       "      <td>Health and beauty</td>\n",
       "      <td>58.22</td>\n",
       "      <td>8</td>\n",
       "      <td>1/27/2019</td>\n",
       "      <td>20:33:00</td>\n",
       "      <td>Ewallet</td>\n",
       "      <td>8.4</td>\n",
       "    </tr>\n",
       "    <tr>\n",
       "      <th>4</th>\n",
       "      <td>373-73-7910</td>\n",
       "      <td>C</td>\n",
       "      <td>Yangon</td>\n",
       "      <td>Normal</td>\n",
       "      <td>Male</td>\n",
       "      <td>Sports and travel</td>\n",
       "      <td>86.31</td>\n",
       "      <td>7</td>\n",
       "      <td>2/8/2019</td>\n",
       "      <td>10:37:00</td>\n",
       "      <td>Ewallet</td>\n",
       "      <td>5.3</td>\n",
       "    </tr>\n",
       "  </tbody>\n",
       "</table>\n",
       "</div>"
      ],
      "text/plain": [
       "    Invoice ID Branch       City Customer type  Gender  \\\n",
       "0  750-67-8428      A     Yangon        Member  Female   \n",
       "1  226-31-3081      A  Naypyitaw        Normal  Female   \n",
       "2  631-41-3108      A     Yangon        Normal    Male   \n",
       "3  123-19-1176      B     Yangon        Member    Male   \n",
       "4  373-73-7910      C     Yangon        Normal    Male   \n",
       "\n",
       "             Product line  Unit price  Quantity       Date      Time  \\\n",
       "0       Health and beauty       74.69         7   1/5/2019  13:08:00   \n",
       "1  Electronic accessories       15.28         5   3/8/2019  10:29:00   \n",
       "2      Home and lifestyle       46.33         7   3/3/2019  13:23:00   \n",
       "3       Health and beauty       58.22         8  1/27/2019  20:33:00   \n",
       "4       Sports and travel       86.31         7   2/8/2019  10:37:00   \n",
       "\n",
       "       Payment  Rating  \n",
       "0      Ewallet     9.1  \n",
       "1         Cash     9.6  \n",
       "2  Credit card     7.4  \n",
       "3      Ewallet     8.4  \n",
       "4      Ewallet     5.3  "
      ]
     },
     "execution_count": 7,
     "metadata": {},
     "output_type": "execute_result"
    }
   ],
   "source": [
    "df.head(5)\n"
   ]
  },
  {
   "cell_type": "code",
   "execution_count": 8,
   "id": "70f2e351-0cac-43fa-b955-b870b5df7208",
   "metadata": {},
   "outputs": [],
   "source": [
    "df['Date'] = pd.to_datetime(df['Date'])"
   ]
  },
  {
   "cell_type": "code",
   "execution_count": 10,
   "id": "4882e9cb-3252-4b41-8190-248ac737ecea",
   "metadata": {},
   "outputs": [],
   "source": [
    "df['Total Sales'] = df['Unit price'] * df['Quantity']"
   ]
  },
  {
   "cell_type": "code",
   "execution_count": 11,
   "id": "2c0df1f4-a783-4052-a6fc-4f6afea17529",
   "metadata": {},
   "outputs": [
    {
     "data": {
      "text/html": [
       "<div>\n",
       "<style scoped>\n",
       "    .dataframe tbody tr th:only-of-type {\n",
       "        vertical-align: middle;\n",
       "    }\n",
       "\n",
       "    .dataframe tbody tr th {\n",
       "        vertical-align: top;\n",
       "    }\n",
       "\n",
       "    .dataframe thead th {\n",
       "        text-align: right;\n",
       "    }\n",
       "</style>\n",
       "<table border=\"1\" class=\"dataframe\">\n",
       "  <thead>\n",
       "    <tr style=\"text-align: right;\">\n",
       "      <th></th>\n",
       "      <th>Invoice ID</th>\n",
       "      <th>Branch</th>\n",
       "      <th>City</th>\n",
       "      <th>Customer type</th>\n",
       "      <th>Gender</th>\n",
       "      <th>Product line</th>\n",
       "      <th>Unit price</th>\n",
       "      <th>Quantity</th>\n",
       "      <th>Date</th>\n",
       "      <th>Time</th>\n",
       "      <th>Payment</th>\n",
       "      <th>Rating</th>\n",
       "      <th>Total Sales</th>\n",
       "    </tr>\n",
       "  </thead>\n",
       "  <tbody>\n",
       "    <tr>\n",
       "      <th>0</th>\n",
       "      <td>750-67-8428</td>\n",
       "      <td>A</td>\n",
       "      <td>Yangon</td>\n",
       "      <td>Member</td>\n",
       "      <td>Female</td>\n",
       "      <td>Health and beauty</td>\n",
       "      <td>74.69</td>\n",
       "      <td>7</td>\n",
       "      <td>2019-01-05</td>\n",
       "      <td>13:08:00</td>\n",
       "      <td>Ewallet</td>\n",
       "      <td>9.1</td>\n",
       "      <td>522.83</td>\n",
       "    </tr>\n",
       "    <tr>\n",
       "      <th>1</th>\n",
       "      <td>226-31-3081</td>\n",
       "      <td>A</td>\n",
       "      <td>Naypyitaw</td>\n",
       "      <td>Normal</td>\n",
       "      <td>Female</td>\n",
       "      <td>Electronic accessories</td>\n",
       "      <td>15.28</td>\n",
       "      <td>5</td>\n",
       "      <td>2019-03-08</td>\n",
       "      <td>10:29:00</td>\n",
       "      <td>Cash</td>\n",
       "      <td>9.6</td>\n",
       "      <td>76.40</td>\n",
       "    </tr>\n",
       "    <tr>\n",
       "      <th>2</th>\n",
       "      <td>631-41-3108</td>\n",
       "      <td>A</td>\n",
       "      <td>Yangon</td>\n",
       "      <td>Normal</td>\n",
       "      <td>Male</td>\n",
       "      <td>Home and lifestyle</td>\n",
       "      <td>46.33</td>\n",
       "      <td>7</td>\n",
       "      <td>2019-03-03</td>\n",
       "      <td>13:23:00</td>\n",
       "      <td>Credit card</td>\n",
       "      <td>7.4</td>\n",
       "      <td>324.31</td>\n",
       "    </tr>\n",
       "    <tr>\n",
       "      <th>3</th>\n",
       "      <td>123-19-1176</td>\n",
       "      <td>B</td>\n",
       "      <td>Yangon</td>\n",
       "      <td>Member</td>\n",
       "      <td>Male</td>\n",
       "      <td>Health and beauty</td>\n",
       "      <td>58.22</td>\n",
       "      <td>8</td>\n",
       "      <td>2019-01-27</td>\n",
       "      <td>20:33:00</td>\n",
       "      <td>Ewallet</td>\n",
       "      <td>8.4</td>\n",
       "      <td>465.76</td>\n",
       "    </tr>\n",
       "    <tr>\n",
       "      <th>4</th>\n",
       "      <td>373-73-7910</td>\n",
       "      <td>C</td>\n",
       "      <td>Yangon</td>\n",
       "      <td>Normal</td>\n",
       "      <td>Male</td>\n",
       "      <td>Sports and travel</td>\n",
       "      <td>86.31</td>\n",
       "      <td>7</td>\n",
       "      <td>2019-02-08</td>\n",
       "      <td>10:37:00</td>\n",
       "      <td>Ewallet</td>\n",
       "      <td>5.3</td>\n",
       "      <td>604.17</td>\n",
       "    </tr>\n",
       "  </tbody>\n",
       "</table>\n",
       "</div>"
      ],
      "text/plain": [
       "    Invoice ID Branch       City Customer type  Gender  \\\n",
       "0  750-67-8428      A     Yangon        Member  Female   \n",
       "1  226-31-3081      A  Naypyitaw        Normal  Female   \n",
       "2  631-41-3108      A     Yangon        Normal    Male   \n",
       "3  123-19-1176      B     Yangon        Member    Male   \n",
       "4  373-73-7910      C     Yangon        Normal    Male   \n",
       "\n",
       "             Product line  Unit price  Quantity       Date      Time  \\\n",
       "0       Health and beauty       74.69         7 2019-01-05  13:08:00   \n",
       "1  Electronic accessories       15.28         5 2019-03-08  10:29:00   \n",
       "2      Home and lifestyle       46.33         7 2019-03-03  13:23:00   \n",
       "3       Health and beauty       58.22         8 2019-01-27  20:33:00   \n",
       "4       Sports and travel       86.31         7 2019-02-08  10:37:00   \n",
       "\n",
       "       Payment  Rating  Total Sales  \n",
       "0      Ewallet     9.1       522.83  \n",
       "1         Cash     9.6        76.40  \n",
       "2  Credit card     7.4       324.31  \n",
       "3      Ewallet     8.4       465.76  \n",
       "4      Ewallet     5.3       604.17  "
      ]
     },
     "execution_count": 11,
     "metadata": {},
     "output_type": "execute_result"
    }
   ],
   "source": [
    "df.head()\n"
   ]
  },
  {
   "cell_type": "code",
   "execution_count": 20,
   "id": "3a7afad3-4f26-47b7-9e0d-e6fb78d16f0b",
   "metadata": {},
   "outputs": [],
   "source": [
    "city_branch_performance = df.groupby(['City', 'Branch'])['Total Sales'].sum().reset_index()"
   ]
  },
  {
   "cell_type": "code",
   "execution_count": 25,
   "id": "9d7c480f-e286-4859-8e5f-7a6306df0828",
   "metadata": {},
   "outputs": [
    {
     "name": "stdout",
     "output_type": "stream",
     "text": [
      "Performance of Sales and Revenue at City and Branch Level:\n",
      "\n",
      "        City Branch  Total Sales\n",
      "1   Mandalay      B     37215.93\n",
      "3  Naypyitaw      A     35985.64\n",
      "7     Yangon      B     35193.51\n",
      "4  Naypyitaw      B     35157.75\n",
      "5  Naypyitaw      C     34160.14\n",
      "0   Mandalay      A     34130.09\n",
      "6     Yangon      A     33647.27\n",
      "8     Yangon      C     32302.43\n",
      "2   Mandalay      C     29794.62\n"
     ]
    }
   ],
   "source": [
    "city_branch_performance = city_branch_performance.sort_values(by='Total Sales', ascending=False)\n",
    "print(\"Performance of Sales and Revenue at City and Branch Level:\\n\")\n",
    "print(city_branch_performance)"
   ]
  },
  {
   "cell_type": "code",
   "execution_count": 27,
   "id": "95c7d1e6-88b5-48e5-8089-951aa5bb26e9",
   "metadata": {},
   "outputs": [],
   "source": [
    "# Group by City and Branch to calculate the average unit price of an item sold\n",
    "average_price_per_item = df.groupby(['City', 'Branch'])['Unit price'].mean().reset_index()"
   ]
  },
  {
   "cell_type": "code",
   "execution_count": 28,
   "id": "dd2a7448-3bcf-4a71-ba90-7d2360c7dcbf",
   "metadata": {},
   "outputs": [
    {
     "name": "stdout",
     "output_type": "stream",
     "text": [
      "Average Price of Items Sold at Each Branch of the City:\n",
      "         City Branch  Unit price\n",
      "0   Mandalay      A   53.353866\n",
      "1   Mandalay      B   56.133305\n",
      "2   Mandalay      C   57.958316\n",
      "3  Naypyitaw      A   54.123182\n",
      "4  Naypyitaw      B   57.785688\n",
      "5  Naypyitaw      C   57.941009\n",
      "6     Yangon      A   55.639298\n",
      "7     Yangon      B   56.011062\n",
      "8     Yangon      C   52.684602\n"
     ]
    }
   ],
   "source": [
    "print(\"Average Price of Items Sold at Each Branch of the City:\\n\", average_price_per_item)\n"
   ]
  },
  {
   "cell_type": "code",
   "execution_count": 30,
   "id": "50d8a419-2560-4d6f-bfa1-494953283531",
   "metadata": {},
   "outputs": [],
   "source": [
    "df['Date'] = pd.to_datetime(df['Date'])  # Ensure Date is in datetime format\n",
    "df['Month-Year'] = df['Date'].dt.to_period('M')  # Extract Month-Year\n",
    "df['Total Sales'] = df['Unit price'] * df['Quantity']"
   ]
  },
  {
   "cell_type": "code",
   "execution_count": 31,
   "id": "816a7b52-6f68-4515-9200-7d99eb340380",
   "metadata": {},
   "outputs": [],
   "source": [
    "#Product analysis\n",
    "product_line_analysis = df.groupby(['Month-Year', 'Product line'])['Total Sales'].sum().unstack()"
   ]
  },
  {
   "cell_type": "code",
   "execution_count": 32,
   "id": "f3ad65ac-9523-4ff5-9045-16d7ee0d0290",
   "metadata": {},
   "outputs": [],
   "source": [
    "# Gender Analysis\n",
    "gender_analysis = df.groupby(['Month-Year', 'Gender'])['Total Sales'].sum().unstack()"
   ]
  },
  {
   "cell_type": "code",
   "execution_count": 37,
   "id": "01dfcac4-0b52-4d60-8107-d5366810bb2f",
   "metadata": {},
   "outputs": [],
   "source": [
    "# Payment Method Analysis\n",
    "payment_method_analysis = df.groupby(['Month-Year', 'Payment'])['Total Sales'].sum().unstack()"
   ]
  },
  {
   "cell_type": "code",
   "execution_count": 42,
   "id": "f54319e8-917e-4ef1-936a-881f51634a69",
   "metadata": {},
   "outputs": [
    {
     "name": "stdout",
     "output_type": "stream",
     "text": [
      "<PeriodArray>\n",
      "['2019-01', '2019-03', '2019-02']\n",
      "Length: 3, dtype: period[M]\n"
     ]
    }
   ],
   "source": [
    "df.head()\n",
    "print(df['Month-Year'].unique())\n"
   ]
  },
  {
   "cell_type": "code",
   "execution_count": 44,
   "id": "8e05da68-d099-415e-a9bd-033bea14c639",
   "metadata": {},
   "outputs": [
    {
     "name": "stdout",
     "output_type": "stream",
     "text": [
      "Empty DataFrame\n",
      "Columns: [Invoice ID, Branch, City, Customer type, Gender, Product line, Unit price, Quantity, Date, Time, Payment, Rating, Total Sales, Month-Year]\n",
      "Index: []\n"
     ]
    }
   ],
   "source": [
    "april_2019_data = df[df['Month-Year'] == '2019-04']\n",
    "print(april_2019_data.head())"
   ]
  },
  {
   "cell_type": "code",
   "execution_count": 51,
   "id": "c6f3529b-7718-4e4b-b6d6-ac2afd7cfa66",
   "metadata": {},
   "outputs": [
    {
     "name": "stdout",
     "output_type": "stream",
     "text": [
      "object\n"
     ]
    }
   ],
   "source": [
    "print(df['Month-Year'].dtype)"
   ]
  },
  {
   "cell_type": "code",
   "execution_count": 52,
   "id": "4bca12b8-5a2d-441d-a9fa-a947494efd8e",
   "metadata": {},
   "outputs": [
    {
     "name": "stdout",
     "output_type": "stream",
     "text": [
      "0    2019-01\n",
      "1    2019-03\n",
      "2    2019-03\n",
      "3    2019-01\n",
      "4    2019-02\n",
      "Name: Month-Year, dtype: object\n"
     ]
    }
   ],
   "source": [
    "print(df['Month-Year'].head())"
   ]
  },
  {
   "cell_type": "code",
   "execution_count": 53,
   "id": "d698dba0-9190-4e58-842f-bbd6fdc575ab",
   "metadata": {},
   "outputs": [],
   "source": [
    "df['Month-Year'] = df['Month-Year'].astype(str)\n"
   ]
  },
  {
   "cell_type": "code",
   "execution_count": 56,
   "id": "3d4dba64-40dd-4489-b0b2-2b1ca1f8ea01",
   "metadata": {},
   "outputs": [
    {
     "name": "stdout",
     "output_type": "stream",
     "text": [
      "['2019-01' '2019-03' '2019-02']\n"
     ]
    }
   ],
   "source": [
    "print(df['Month-Year'].unique())"
   ]
  },
  {
   "cell_type": "code",
   "execution_count": 57,
   "id": "42b80bd7-646a-4247-ab06-fcb3b1aeaf3f",
   "metadata": {},
   "outputs": [],
   "source": [
    "april_data = df[df['Month-Year'] == '2019-04']"
   ]
  },
  {
   "cell_type": "code",
   "execution_count": 58,
   "id": "1a538314-3a77-4c75-8887-b9a813878f83",
   "metadata": {},
   "outputs": [
    {
     "name": "stdout",
     "output_type": "stream",
     "text": [
      "Empty DataFrame\n",
      "Columns: [Invoice ID, Branch, City, Customer type, Gender, Product line, Unit price, Quantity, Date, Time, Payment, Rating, Total Sales, Month-Year]\n",
      "Index: []\n"
     ]
    }
   ],
   "source": [
    "print(april_data.head())"
   ]
  },
  {
   "cell_type": "code",
   "execution_count": 59,
   "id": "a5e4d91f-e513-443e-b160-69c90eb96c74",
   "metadata": {},
   "outputs": [],
   "source": [
    "april_2019_product_line = product_line_analysis.loc['2019-03']\n",
    "april_2019_gender = gender_analysis.loc['2019-03']\n",
    "april_2019_payment_method = payment_method_analysis.loc['2019-03']"
   ]
  },
  {
   "cell_type": "code",
   "execution_count": 60,
   "id": "b19c7d5e-0b86-4a95-9d41-62d22a2e0a7e",
   "metadata": {},
   "outputs": [
    {
     "name": "stdout",
     "output_type": "stream",
     "text": [
      "Product Line Sales for April 2019:\n",
      " Product line\n",
      "Electronic accessories    17279.37\n",
      "Fashion accessories       15191.35\n",
      "Food and beverages        15784.72\n",
      "Health and beauty         17341.25\n",
      "Home and lifestyle        19935.99\n",
      "Sports and travel         18710.66\n",
      "Name: 2019-03, dtype: float64\n",
      "\n",
      "Gender Sales for April 2019:\n",
      " Gender\n",
      "Female    49912.75\n",
      "Male      54330.59\n",
      "Name: 2019-03, dtype: float64\n",
      "\n",
      "Payment Method Sales for April 2019:\n",
      " Payment\n",
      "Cash           33038.24\n",
      "Credit card    29676.64\n",
      "Ewallet        41528.46\n",
      "Name: 2019-03, dtype: float64\n"
     ]
    }
   ],
   "source": [
    "print(\"Product Line Sales for April 2019:\\n\", april_2019_product_line)\n",
    "print(\"\\nGender Sales for April 2019:\\n\", april_2019_gender)\n",
    "print(\"\\nPayment Method Sales for April 2019:\\n\", april_2019_payment_method)"
   ]
  },
  {
   "cell_type": "code",
   "execution_count": 61,
   "id": "ded222a7-7378-423c-ba79-3abcbad33553",
   "metadata": {},
   "outputs": [
    {
     "data": {
      "image/png": "[encoded data removed]",
      "text/plain": [
       "<Figure size 640x480 with 1 Axes>"
      ]
     },
     "metadata": {},
     "output_type": "display_data"
    }
   ],
   "source": [
    "import matplotlib.pyplot as plt\n",
    "april_2019_product_line.plot(kind='bar', title='Product Line Sales - April 2019')\n",
    "plt.xlabel('Product Line')\n",
    "plt.ylabel('Total Sales')\n",
    "plt.show()"
   ]
  },
  {
   "cell_type": "code",
   "execution_count": 63,
   "id": "60207dff-a808-4ac3-8a6c-cf520faf87c5",
   "metadata": {},
   "outputs": [],
   "source": [
    "monthly_sales = df.groupby('Month-Year')['Total Sales'].sum().reset_index()"
   ]
  },
  {
   "cell_type": "code",
   "execution_count": 64,
   "id": "95707ed5-d93e-4bfb-ac8c-6e1f4418164e",
   "metadata": {},
   "outputs": [],
   "source": [
    "monthly_sales['MoM Change (%)'] = monthly_sales['Total Sales'].pct_change() * 100"
   ]
  },
  {
   "cell_type": "code",
   "execution_count": 65,
   "id": "00559304-048d-4403-a214-d661f6e11736",
   "metadata": {},
   "outputs": [
    {
     "name": "stdout",
     "output_type": "stream",
     "text": [
      "  Month-Year  Total Sales  MoM Change (%)\n",
      "0    2019-01    110754.16             NaN\n",
      "1    2019-02     92589.88      -16.400540\n",
      "2    2019-03    104243.34       12.586106\n"
     ]
    }
   ],
   "source": [
    "print(monthly_sales)"
   ]
  },
  {
   "cell_type": "code",
   "execution_count": 76,
   "id": "32a2f30d-0ffe-43e0-81d9-ee57bd09da2d",
   "metadata": {},
   "outputs": [
    {
     "data": {
      "image/png": "[encoded data removed]",
      "text/plain": [
       "<Figure size 700x400 with 1 Axes>"
      ]
     },
     "metadata": {},
     "output_type": "display_data"
    }
   ],
   "source": [
    "import matplotlib.pyplot as plt\n",
    "\n",
    "# Plotting Month-over-Month changes\n",
    "plt.figure(figsize=(7,4))\n",
    "plt.plot(monthly_sales['Month-Year'].astype(str), monthly_sales['MoM Change (%)'], marker='o', linestyle='-', color='r')\n",
    "plt.title('Month-over-Month Sales Change')\n",
    "plt.xlabel('Month-Year')\n",
    "plt.ylabel('MoM Change (%)')\n",
    "plt.xticks(rotation=45)\n",
    "plt.grid(True)\n",
    "plt.show()"
   ]
  },
  {
   "cell_type": "code",
   "execution_count": null,
   "id": "11fc8a6e-db00-435f-98fa-3b78cc9262af",
   "metadata": {},
   "outputs": [],
   "source": []
  },
  {
   "cell_type": "code",
   "execution_count": null,
   "id": "0b6d2688-eda7-4d13-9032-e7a0ca9b2336",
   "metadata": {},
   "outputs": [],
   "source": []
  }
 ],
 "metadata": {
  "kernelspec": {
   "display_name": "Python 3 (ipykernel)",
   "language": "python",
   "name": "python3"
  },
  "language_info": {
   "codemirror_mode": {
    "name": "ipython",
    "version": 3
   },
   "file_extension": ".py",
   "mimetype": "text/x-python",
   "name": "python",
   "nbconvert_exporter": "python",
   "pygments_lexer": "ipython3",
   "version": "3.11.7"
  }
 },
 "nbformat": 4,
 "nbformat_minor": 5
}
